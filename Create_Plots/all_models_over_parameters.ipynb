{
 "cells": [
  {
   "cell_type": "code",
   "execution_count": 1,
   "metadata": {},
   "outputs": [],
   "source": [
    "import pandas as pd\n",
    "import numpy as np\n",
    "import matplotlib.pyplot as plt\n",
    "import itertools\n",
    "plt.style.use(\"seaborn-v0_8-deep\")\n",
    "plt.rcParams.update({\n",
    "    \"text.usetex\": True,  # Use LaTeX for text rendering\n",
    "    \"font.family\": \"serif\",  # Use serif font\n",
    "    \"font.serif\": [\"Computer Modern Roman\"],  # Use default LaTeX font\n",
    "})"
   ]
  },
  {
   "cell_type": "code",
   "execution_count": 2,
   "metadata": {},
   "outputs": [],
   "source": [
    "df_lstm = pd.read_csv('/tikhome/tfellner/Projects/VQA_timeseries_benchmark/Results/lstm_hyper_opt.csv')\n",
    "df_rnn = pd.read_csv('/tikhome/tfellner/Projects/VQA_timeseries_benchmark/Results/rnn_hyper_opt.csv')\n",
    "df_vqc = pd.read_csv('/tikhome/tfellner/Projects/VQA_timeseries_benchmark/Results/vqc_hyper_opt.csv')\n",
    "df_mlp = pd.read_csv('/tikhome/tfellner/Projects/VQA_timeseries_benchmark/Results/mlp_hyper_opt.csv')\n",
    "df_qrnn = pd.read_csv('/tikhome/tfellner/Projects/VQA_timeseries_benchmark/Results/qrnn_paper_hyper_opt.csv')\n",
    "df_qlstm_paper = pd.read_csv('/tikhome/tfellner/Projects/VQA_timeseries_benchmark/Results/qlstm_paper_hyper_opt.csv')\n",
    "df_qlstm_le = pd.read_csv('/tikhome/tfellner/Projects/VQA_timeseries_benchmark/Results/qlstm_linear_enhanced_paper_hyper_opt.csv')"
   ]
  },
  {
   "cell_type": "code",
   "execution_count": 3,
   "metadata": {},
   "outputs": [],
   "source": [
    "#df_vqc_reuploading_expencnorm = df_vqc[df_vqc['Ansatz'].str.startswith('reuploading_expencnorm')]\n",
    "df_vqc_reuploading_expencnorm = df_vqc[df_vqc['Ansatz'].str.startswith('ruexp_')]\n",
    "df_vqc_plain = df_vqc[df_vqc['Ansatz'].str.startswith('paper_rivera-ruiz_no_inputlayer_')]\n",
    "df_vqc_dressed = df_vqc[df_vqc['Ansatz'].str.startswith('paper_rivera-ruiz_with_inputlayer_')]\n",
    "df_qrnn_no_reset = df_qrnn[df_qrnn['Ansatz']== 'paper_no_reset']"
   ]
  },
  {
   "cell_type": "code",
   "execution_count": null,
   "metadata": {},
   "outputs": [],
   "source": [
    "sequence_lengths = [4, 8, 16]\n",
    "prediction_steps_mackey = [1, 70, 140]\n",
    "prediction_steps_henon = [1, 2, 4]\n",
    "prediction_steps_lorenz = [1, 13, 25]\n",
    "\n",
    "models = {'d-QNN': (df_vqc_dressed, '#D65A31'), 'ru-QNN': (df_vqc_reuploading_expencnorm, '#E27D60'), 'QRNN': (df_qrnn_no_reset, '#FFBF46'), 'QLSTM': (df_qlstm_paper, '#C5A880'), 'le-QLSTM': (df_qlstm_le, '#6B4226'), 'MLP': (df_mlp, '#006D77'),'RNN': (df_rnn, '#00A8CC'), 'LSTM': (df_lstm, '#4A90E2')}\n",
    "data = {'mackey_1000': (prediction_steps_mackey, 'Mackey-Glass'), 'henon_1000': (prediction_steps_henon, 'Hénon'), 'lorenz_1000': (prediction_steps_lorenz, 'Lorenz')}"
   ]
  },
  {
   "cell_type": "code",
   "execution_count": null,
   "metadata": {},
   "outputs": [],
   "source": [
    "for data_label, (prediction_steps, data_name) in data.items():\n",
    "    fig, axs = plt.subplots(3, 3, figsize=(3*2.4, 3*2.7), sharex=False)\n",
    "    handles_list = []\n",
    "    labels_list = []\n",
    "    for i, sequence_length in enumerate(sequence_lengths):\n",
    "        for j, prediction_step in enumerate(prediction_steps):\n",
    "            ax = axs[j, i]\n",
    "            for model, (df, color) in models.items():\n",
    "                df_filtered = df[(df['Sequence Length'] == sequence_length) & (df['Data'] == data_label) & (df['Prediction Step'] == prediction_step)]\n",
    "                df_filtered = df_filtered.sort_values('Num Parameters')\n",
    "                ax.scatter(df_filtered['Num Parameters'], df_filtered['MSE Testing Median'], marker='x', label=model, color=color)\n",
    "            handles, labels = ax.get_legend_handles_labels()\n",
    "            handles_list.extend(handles)\n",
    "            labels_list.extend(labels)\n",
    "            ax.set_title(f'Seq: {sequence_length}, Pred: {prediction_step}')\n",
    "            ax.set_xscale('log')\n",
    "            ax.set_yscale('log')\n",
    "            ax.grid(True)\n",
    "    unique_handles_labels = list(dict(zip(labels_list, handles_list)).items())\n",
    "    unique_handles = [h for l, h in unique_handles_labels]\n",
    "    unique_labels = [l for l, h in unique_handles_labels]\n",
    "    fig.legend(unique_handles, unique_labels, loc='lower center', ncol=4, bbox_to_anchor=(0.5, 0.002))\n",
    "    fig.text(0.54, 0.11, 'Number of Parameters', ha='center')\n",
    "    fig.text(0.02, 0.52, 'Median MSE', va='center', rotation='vertical')\n",
    "    fig.suptitle(f'{data_name}')\n",
    "\n",
    "    plt.tight_layout()  # Adjust layout to accommodate the legend outside\n",
    "    fig.subplots_adjust(left=0.13, right=0.95, top=0.92, bottom=0.18, wspace=0.5, hspace=0.35)\n",
    "    plt.savefig(f'/tikhome/tfellner/Projects/VQA_timeseries_benchmark/Plots/All_models/all_models_mse_over_parameters_{data_label}_new.pdf')"
   ]
  },
  {
   "cell_type": "code",
   "execution_count": null,
   "metadata": {},
   "outputs": [],
   "source": [
    "models_specific = {'d-QNN': (df_vqc_dressed, '#D65A31'), 'QRNN': (df_qrnn_no_reset, '#FFBF46'), 'le-QLSTM': (df_qlstm_le, '#6B4226'), 'LSTM': (df_lstm, '#4A90E2')}\n",
    "pred_specific = [1, 25]"
   ]
  },
  {
   "cell_type": "code",
   "execution_count": null,
   "metadata": {},
   "outputs": [],
   "source": [
    "fig, axs = plt.subplots(2, 1, figsize=(4, 4), sharex=False)\n",
    "handles_list = []\n",
    "labels_list = []\n",
    "for j, prediction_step in enumerate(pred_specific):\n",
    "    ax = axs[j]\n",
    "    for model, (df, color) in models_specific.items():\n",
    "        df_filtered = df[(df['Sequence Length'] == 16) & (df['Data'] == \"lorenz_1000\") & (df['Prediction Step'] == prediction_step)]\n",
    "        df_filtered = df_filtered.sort_values('Num Parameters')\n",
    "        ax.errorbar(df_filtered['Num Parameters'], df_filtered['MSE Testing Median'], yerr=df_filtered['MSE Testing Mad'], marker='o', linestyle='none', label=model, color=color, capsize=7, markeredgecolor='black', markeredgewidth=0.5)\n",
    "    handles, labels = ax.get_legend_handles_labels()\n",
    "    handles_list.extend(handles)\n",
    "    labels_list.extend(labels)\n",
    "    ax.set_title(f'Pred: {prediction_step}', fontsize=11)\n",
    "    ax.set_xscale('log')\n",
    "    ax.set_yscale('log')\n",
    "    ax.grid(True)\n",
    "    ax.tick_params(axis='x', labelsize=11)  # Adjust fontsize for x ticks\n",
    "    ax.tick_params(axis='y', labelsize=11)  # Adjust fontsize for y ticks\n",
    "unique_handles_labels = list(dict(zip(labels_list, handles_list)).items())\n",
    "unique_handles = [h for l, h in unique_handles_labels]\n",
    "unique_labels = [l for l, h in unique_handles_labels]\n",
    "fig.legend(unique_handles, unique_labels, loc='upper right', ncol=1, bbox_to_anchor=(0.95, 0.87), fontsize=9)\n",
    "fig.text(0.54, 0.02, 'Number of Parameters', ha='center', fontsize=11)\n",
    "fig.text(0.02, 0.52, 'Median MSE', va='center', rotation='vertical', fontsize=11)\n",
    "fig.suptitle(f'{data_name}, Seq: 16', fontsize=11)\n",
    "\n",
    "plt.tight_layout()  # Adjust layout to accommodate the legend outside\n",
    "fig.subplots_adjust(left=0.18, right=0.95, top=0.87, bottom=0.12, wspace=0.5, hspace=0.4)\n",
    "plt.savefig(f'/tikhome/tfellner/Projects/VQA_timeseries_benchmark/Plots/All_models/specific_models_mse_over_parameters_new.pdf')"
   ]
  }
 ],
 "metadata": {
  "kernelspec": {
   "display_name": ".venv",
   "language": "python",
   "name": "python3"
  },
  "language_info": {
   "codemirror_mode": {
    "name": "ipython",
    "version": 3
   },
   "file_extension": ".py",
   "mimetype": "text/x-python",
   "name": "python",
   "nbconvert_exporter": "python",
   "pygments_lexer": "ipython3",
   "version": "3.12.3"
  }
 },
 "nbformat": 4,
 "nbformat_minor": 2
}
