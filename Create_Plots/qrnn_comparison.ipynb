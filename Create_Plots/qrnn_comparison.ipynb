{
 "cells": [
  {
   "cell_type": "code",
   "execution_count": 1,
   "metadata": {},
   "outputs": [],
   "source": [
    "import pandas as pd\n",
    "import numpy as np\n",
    "import matplotlib.pyplot as plt\n",
    "from matplotlib.lines import Line2D\n",
    "plt.style.use(\"seaborn-v0_8-deep\")\n",
    "plt.rcParams.update({\n",
    "    \"text.usetex\": True,  # Use LaTeX for text rendering\n",
    "    \"font.family\": \"serif\",  # Use serif font\n",
    "    \"font.serif\": [\"Computer Modern Roman\"],  # Use default LaTeX font\n",
    "})"
   ]
  },
  {
   "cell_type": "code",
   "execution_count": 2,
   "metadata": {},
   "outputs": [],
   "source": [
    "df_qrnn = pd.read_csv('/tikhome/tfellner/Projects/VQA_timeseries_benchmark/Results/qrnn_paper_averaged_ids.csv')\n",
    "df_qrnn_reset = df_qrnn[(df_qrnn['Ansatz']== 'paper_reset') & (df_qrnn['Number Qubits'] == 4) & (df_qrnn['Sequence Length'] == 4)]\n",
    "df_qrnn_no_reset = df_qrnn[(df_qrnn['Ansatz']== 'paper_no_reset') & (df_qrnn['Number Qubits'] == 4) & (df_qrnn['Sequence Length'] == 4)]"
   ]
  },
  {
   "cell_type": "code",
   "execution_count": 3,
   "metadata": {},
   "outputs": [],
   "source": [
    "def find_best(df):\n",
    "    df_intern = df.copy()\n",
    "    best_rows = df_intern.loc[df_intern.groupby(['Prediction Step', 'Data', 'Sequence Length'], observed=True)['MSE Validation Median'].idxmin()]\n",
    "    return best_rows"
   ]
  },
  {
   "cell_type": "code",
   "execution_count": 4,
   "metadata": {},
   "outputs": [],
   "source": [
    "best_qrnn_reset = find_best(df_qrnn_reset)\n",
    "best_qrnn_no_reset = find_best(df_qrnn_no_reset)"
   ]
  },
  {
   "cell_type": "code",
   "execution_count": 5,
   "metadata": {},
   "outputs": [],
   "source": [
    "prediction_steps_mackey = [1, 70, 140]\n",
    "prediction_steps_henon = [1, 2, 4]\n",
    "prediction_steps_lorenz = [1, 13, 25]\n",
    "models = {'QRNN reset': (best_qrnn_reset, '#33AA88'), 'QRNN no reset': (best_qrnn_no_reset, '#AA3377')}\n",
    "# new color: FFBF46\n",
    "models = {'QRNN reset': (best_qrnn_reset, '#33AA88'), 'QRNN no reset': (best_qrnn_no_reset, '#FFBF46')}\n",
    "data = {'mackey_1000': (prediction_steps_mackey, 'Mackey-Glass'), 'henon_1000': (prediction_steps_henon, 'Hénon'), 'lorenz_1000': (prediction_steps_lorenz, 'Lorenz')}"
   ]
  },
  {
   "cell_type": "code",
   "execution_count": null,
   "metadata": {},
   "outputs": [],
   "source": [
    "legend_handles = {}\n",
    "fig, axs = plt.subplots(1, len(data), figsize=(4, 3))\n",
    "for i, (model, (df, color)) in enumerate(models.items()):\n",
    "    for j, (data_label, (prediction_steps, data_title)) in enumerate(data.items()):\n",
    "        for k, prediction_step in enumerate(prediction_steps):\n",
    "            ax = axs[j]\n",
    "            df_filtered = df[(df['Data'] == data_label) & (df['Prediction Step'] == prediction_step)]\n",
    "            df_filtered = df_filtered.sort_values('Sequence Length')\n",
    "            if not df_filtered.empty:\n",
    "                handle = ax.errorbar(prediction_step, df_filtered['MSE Testing Median'], yerr=df_filtered['MSE Testing Mad'], marker='d', label=model, color=color, capsize=7, markeredgecolor='black', markeredgewidth=0.5)\n",
    "            ax.set_yscale('log')\n",
    "            ax.set_title(f'{data_title}', fontsize=11)\n",
    "            ax.set_xticks(prediction_steps)\n",
    "            ax.grid(True)\n",
    "            if model not in legend_handles:\n",
    "                legend_handles[model] = handle\n",
    "                        # Set the tick font sizes\n",
    "            ax.tick_params(axis='x', labelsize=11)  # Adjust fontsize for x ticks\n",
    "            ax.tick_params(axis='y', labelsize=11)  # Adjust fontsize for y ticks\n",
    "legend_handles = [\n",
    "    Line2D([0], [0], color='#33AA88', marker='d', linestyle='None', \n",
    "           markeredgecolor='black', markeredgewidth=0.5, label='QRNN reset'),\n",
    "    Line2D([0], [0], color='#FFBF46', marker='d', linestyle='None', \n",
    "           markeredgecolor='black', markeredgewidth=0.5, label='QRNN no reset')\n",
    "]\n",
    "fig.legend(handles=legend_handles, loc='lower center', bbox_to_anchor=(0.5, 0.002), ncol=2, fontsize=11)\n",
    "fig.text(0.01, 0.54, 'Median MSE', va='center', rotation='vertical', fontsize=11)\n",
    "fig.text(0.57, 0.15, 'Prediction Step', ha='center', fontsize=11)\n",
    "plt.tight_layout()  # Adjust layout to accommodate the legend outside\n",
    "fig.subplots_adjust(left=0.18, right=0.98, top=0.92, bottom=0.28, wspace=0.62, hspace=0.45)\n",
    "for ax in axs:\n",
    "    x_min, x_max = ax.get_xlim()  # Get current x-axis limits\n",
    "    ax.set_xlim(x_min - (x_max-x_min)*0.15, x_max + (x_max-x_min)*0.15)  # Add padding\n",
    "plt.savefig(f'/tikhome/tfellner/Projects/VQA_timeseries_benchmark/Plots/All_models/qrnn_comparison_new.pdf')"
   ]
  }
 ],
 "metadata": {
  "kernelspec": {
   "display_name": ".venv",
   "language": "python",
   "name": "python3"
  },
  "language_info": {
   "codemirror_mode": {
    "name": "ipython",
    "version": 3
   },
   "file_extension": ".py",
   "mimetype": "text/x-python",
   "name": "python",
   "nbconvert_exporter": "python",
   "pygments_lexer": "ipython3",
   "version": "3.12.3"
  }
 },
 "nbformat": 4,
 "nbformat_minor": 2
}
