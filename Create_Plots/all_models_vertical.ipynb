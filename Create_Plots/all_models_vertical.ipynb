{
 "cells": [
  {
   "cell_type": "code",
   "execution_count": 1,
   "metadata": {},
   "outputs": [],
   "source": [
    "import pandas as pd\n",
    "import numpy as np\n",
    "import matplotlib.pyplot as plt\n",
    "import itertools\n",
    "plt.style.use(\"seaborn-v0_8-deep\")\n",
    "plt.rcParams.update({\n",
    "    \"text.usetex\": True,  # Use LaTeX for text rendering\n",
    "    \"font.family\": \"serif\",  # Use serif font\n",
    "    \"font.serif\": [\"Computer Modern Roman\"],  # Use default LaTeX font\n",
    "})"
   ]
  },
  {
   "cell_type": "code",
   "execution_count": 2,
   "metadata": {},
   "outputs": [],
   "source": [
    "df_lstm = pd.read_csv('/tikhome/tfellner/Projects/VQA_timeseries_benchmark/Results/lstm_hyper_opt.csv')\n",
    "df_rnn = pd.read_csv('/tikhome/tfellner/Projects/VQA_timeseries_benchmark/Results/rnn_hyper_opt.csv')\n",
    "df_vqc = pd.read_csv('/tikhome/tfellner/Projects/VQA_timeseries_benchmark/Results/vqc_hyper_opt.csv')\n",
    "df_mlp = pd.read_csv('/tikhome/tfellner/Projects/VQA_timeseries_benchmark/Results/mlp_hyper_opt.csv')\n",
    "df_qrnn = pd.read_csv('/tikhome/tfellner/Projects/VQA_timeseries_benchmark/Results/qrnn_paper_hyper_opt.csv')\n",
    "df_qlstm_paper = pd.read_csv('/tikhome/tfellner/Projects/VQA_timeseries_benchmark/Results/qlstm_paper_hyper_opt.csv')\n",
    "df_qlstm_le = pd.read_csv('/tikhome/tfellner/Projects/VQA_timeseries_benchmark/Results/qlstm_linear_enhanced_paper_hyper_opt.csv')"
   ]
  },
  {
   "cell_type": "code",
   "execution_count": null,
   "metadata": {},
   "outputs": [],
   "source": [
    "df_vqc_reuploading_expencnorm = df_vqc[df_vqc['Ansatz'].str.startswith('ruexp_')]\n",
    "df_vqc_plain = df_vqc[df_vqc['Ansatz'].str.startswith('paper_rivera-ruiz_no_inputlayer_')]\n",
    "df_vqc_dressed = df_vqc[df_vqc['Ansatz'].str.startswith('paper_rivera-ruiz_with_inputlayer_')]\n",
    "df_qrnn_reset = df_qrnn[df_qrnn['Ansatz']== 'paper_reset']\n",
    "df_qrnn_no_reset = df_qrnn[df_qrnn['Ansatz']== 'paper_no_reset']"
   ]
  },
  {
   "cell_type": "code",
   "execution_count": 4,
   "metadata": {},
   "outputs": [],
   "source": [
    "def find_best(df):\n",
    "    df_intern = df.copy()\n",
    "    best_rows = df_intern.loc[df_intern.groupby(['Prediction Step', 'Data', 'Sequence Length'], observed=True)['MSE Validation Median'].idxmin()]\n",
    "    return best_rows\n",
    "\n",
    "best_lstm = find_best(df_lstm)\n",
    "best_vqc_reuploading_expencnorm = find_best(df_vqc_reuploading_expencnorm)\n",
    "best_vqc_plain = find_best(df_vqc_plain)\n",
    "best_vqc_dressed = find_best(df_vqc_dressed)\n",
    "best_mlp = find_best(df_mlp)\n",
    "best_qrnn_reset = find_best(df_qrnn_reset)\n",
    "best_qrnn_no_reset = find_best(df_qrnn_no_reset)\n",
    "best_qlstm_paper = find_best(df_qlstm_paper)\n",
    "best_rnn = find_best(df_rnn)\n",
    "best_qlstm_le = find_best(df_qlstm_le)\n"
   ]
  },
  {
   "cell_type": "code",
   "execution_count": null,
   "metadata": {},
   "outputs": [],
   "source": [
    "sequence_lengths = [4, 8, 16]\n",
    "prediction_steps_mackey = [1, 70, 140]\n",
    "prediction_steps_henon = [1, 2, 4]\n",
    "prediction_steps_lorenz = [1, 13, 25]\n",
    "models = {'d-QNN': (best_vqc_dressed, '#D65A31'), 'ru-QNN': (best_vqc_reuploading_expencnorm, '#E27D60'), 'QRNN': (best_qrnn_no_reset, '#FFBF46'), 'QLSTM': (best_qlstm_paper, '#C5A880'), 'le-QLSTM': (best_qlstm_le, '#6B4226'), 'MLP': (best_mlp, '#006D77'),'RNN': (best_rnn, '#00A8CC'), 'LSTM': (best_lstm, '#4A90E2')}\n",
    "['#B0A86E', '#9467BD']\n",
    "data = {'mackey_1000': (prediction_steps_mackey, 'Mackey-Glass'), 'henon_1000': (prediction_steps_henon, 'Hénon'), 'lorenz_1000': (prediction_steps_lorenz, 'Lorenz')}\n",
    "seq_map = {4: 'd', 8: 'X', 16: 'o'}"
   ]
  },
  {
   "cell_type": "code",
   "execution_count": null,
   "metadata": {},
   "outputs": [],
   "source": [
    "fig, axs = plt.subplots(len(prediction_steps_mackey), len(data), figsize=(len(data)*2.4, len(prediction_steps_mackey)*2.7), sharex=False)\n",
    "for i, (model, (df, color)) in enumerate(models.items()):\n",
    "    for j, (data_label, (prediction_steps, data_title)) in enumerate(data.items()):\n",
    "        for k, prediction_step in enumerate(prediction_steps):\n",
    "            ax = axs[k, j]\n",
    "            df_filtered = df[(df['Data'] == data_label) & (df['Prediction Step'] == prediction_step)]\n",
    "            df_filtered = df_filtered.sort_values('Sequence Length')\n",
    "            if not df_filtered.empty:\n",
    "                for l, seq_len in enumerate(sequence_lengths):\n",
    "                    df_seq_len = df_filtered[df_filtered['Sequence Length'] == seq_len]\n",
    "                    x_positions = [i + (l-1)*0.2]*len(df_seq_len)\n",
    "                    ax.errorbar(x_positions, df_seq_len['MSE Testing Median'], yerr=df_seq_len['MSE Testing Mad'], marker=seq_map[seq_len], label=model, color=color, capsize=7, markeredgecolor='black', markeredgewidth=0.5)\n",
    "            ax.set_yscale('log')\n",
    "            ax.set_title(f'{data_title}, Pred: {prediction_step}', fontsize=11)\n",
    "            ax.set_xticks(list(range(0, len(models))))\n",
    "            if k == 2:\n",
    "                ax.set_xticklabels(list(models.keys()), fontsize=11)\n",
    "                ax.tick_params(axis='x', rotation=90)\n",
    "            else:\n",
    "                ax.set_xticks(range(len(models)))  # Keep x-ticks for grid alignment\n",
    "                ax.set_xticklabels([''] * len(models))  # Set empty labels to hide x-tick text\n",
    "            ax.grid(True)\n",
    "custom_handles = [ax.plot([], [], marker=seq_map[seq_length], linestyle='None', color='gray', label=f'Sequence Length {seq_length}', markeredgecolor='black', markeredgewidth=0.5)[0] for seq_length in seq_map]\n",
    "# fig.suptitle('Best Median MSE for each Model', fontsize=14)\n",
    "# Create custom legend\n",
    "fig.legend(custom_handles, [f'Sequence Length {seq_length}' for seq_length in seq_map], loc='lower center', ncol=3, bbox_to_anchor=(0.5, 0.002), fontsize=11)\n",
    "\n",
    "# fig.text(0.54, 0.09, 'Sequence Length', ha='center')\n",
    "fig.text(0.01, 0.52, 'Median MSE', va='center', rotation='vertical', fontsize=11)\n",
    "\n",
    "plt.tight_layout()  # Adjust layout to accommodate the legend outside\n",
    "fig.subplots_adjust(left=0.1, right=0.98, top=0.91, bottom=0.16, wspace=0.25, hspace=0.25)\n",
    "plt.savefig(f'/tikhome/tfellner/Projects/VQA_timeseries_benchmark/Plots/All_models/all_models_mse_over_model_all_ruopt.pdf')"
   ]
  }
 ],
 "metadata": {
  "kernelspec": {
   "display_name": ".venv",
   "language": "python",
   "name": "python3"
  },
  "language_info": {
   "codemirror_mode": {
    "name": "ipython",
    "version": 3
   },
   "file_extension": ".py",
   "mimetype": "text/x-python",
   "name": "python",
   "nbconvert_exporter": "python",
   "pygments_lexer": "ipython3",
   "version": "3.12.3"
  }
 },
 "nbformat": 4,
 "nbformat_minor": 2
}
