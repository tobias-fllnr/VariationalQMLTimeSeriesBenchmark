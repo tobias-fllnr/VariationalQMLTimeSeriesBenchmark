{
 "cells": [
  {
   "cell_type": "code",
   "execution_count": null,
   "metadata": {},
   "outputs": [],
   "source": [
    "import numpy as np\n",
    "import matplotlib.pyplot as plt\n",
    "import pandas as pd\n",
    "import nolds\n",
    "import itertools"
   ]
  },
  {
   "cell_type": "code",
   "execution_count": 4,
   "metadata": {},
   "outputs": [],
   "source": [
    "data_mackey  = pd.read_csv(\"./TimeseriesData/mackey_1000.csv\")\n",
    "data_mackey = data_mackey.head(1000)\n",
    "data_mackey = np.array(data_mackey, dtype=np.float32)\n",
    "data_mackey = data_mackey.reshape(-1)"
   ]
  },
  {
   "cell_type": "code",
   "execution_count": 5,
   "metadata": {},
   "outputs": [],
   "source": [
    "data_lorenz = pd.read_csv(\"./TimeseriesData/lorenz_1000.csv\")\n",
    "data_lorenz = np.array(data_lorenz, dtype=np.float32)"
   ]
  },
  {
   "cell_type": "code",
   "execution_count": 6,
   "metadata": {},
   "outputs": [],
   "source": [
    "data_henon = pd.read_csv(\"./TimeseriesData/henon_1000.csv\")\n",
    "data_henon = data_henon.head(1000)\n",
    "data_henon = np.array(data_henon, dtype=np.float32)"
   ]
  },
  {
   "cell_type": "code",
   "execution_count": 7,
   "metadata": {},
   "outputs": [],
   "source": [
    "def determine_mean_frequency(data, plot=False):\n",
    "    \"\"\"\n",
    "    Plots the frequency spectrum of the given dataset and computes the mean frequency.\n",
    "\n",
    "    Parameters:\n",
    "    data (numpy.ndarray): The time-series data.\n",
    "    sampling_rate (float): The sampling rate of the data in Hz.\n",
    "    \"\"\"\n",
    "    # Compute the number of data points\n",
    "    n = len(data)\n",
    "    \n",
    "    # Perform the Fast Fourier Transform (FFT)\n",
    "    fft_result = np.fft.fft(data)\n",
    "    \n",
    "    # Compute the frequency values\n",
    "    frequencies = np.fft.fftfreq(n, d=1)\n",
    "    \n",
    "    # Compute the magnitude of the FFT (only positive frequencies)\n",
    "    magnitude = np.abs(fft_result[:n // 2])\n",
    "    frequencies = frequencies[:n // 2]\n",
    "    \n",
    "    # Compute the mean frequency (weighted by magnitude)\n",
    "    mean_frequency = np.sum(frequencies * magnitude) / np.sum(magnitude)\n",
    "    if plot == True:\n",
    "        # Plot the frequency spectrum\n",
    "        plt.figure(figsize=(10, 6))\n",
    "        plt.plot(frequencies, magnitude, label='Frequency Spectrum')\n",
    "        plt.axvline(mean_frequency, color='red', linestyle='--', label=f'Mean Frequency: {mean_frequency:.3f} Hz')\n",
    "        plt.title('Frequency Spectrum')\n",
    "        plt.xlabel('Frequency (Hz)')\n",
    "        plt.ylabel('Amplitude')\n",
    "        plt.grid(True)\n",
    "        plt.legend()\n",
    "        plt.tight_layout()\n",
    "        plt.show()\n",
    "    return mean_frequency\n",
    "\n",
    "def calculate_autocorrelation(data):\n",
    "    \"\"\"\n",
    "    Calculate the autocorrelation function of a time series using FFT.\n",
    "    \"\"\"\n",
    "    n = len(data)\n",
    "    data -= np.mean(data)  # Remove mean to center the data\n",
    "    fft_data = np.fft.fft(data, n=2*n)  # Compute FFT with zero-padding\n",
    "    power_spectrum = np.abs(fft_data) ** 2  # Compute power spectrum\n",
    "    autocorr = np.fft.ifft(power_spectrum).real[:n]  # Inverse FFT for autocorrelation\n",
    "    autocorr /= autocorr[0]  # Normalize\n",
    "    return autocorr\n",
    "\n",
    "def find_lag(data):\n",
    "    \"\"\"\n",
    "    Find the lag J where the autocorrelation function drops to 1 - 1/e of its initial value.\n",
    "    \"\"\"\n",
    "    autocorr = calculate_autocorrelation(data)\n",
    "    threshold = 1 - 1/np.e\n",
    "    try:\n",
    "        # Find the first lag where autocorrelation drops below the threshold\n",
    "        j = np.where(autocorr <= threshold)[0][0]\n",
    "    except IndexError:\n",
    "        # If it never drops below, return None\n",
    "        j = None\n",
    "    return j"
   ]
  },
  {
   "cell_type": "markdown",
   "metadata": {},
   "source": [
    "Mean Period is used as the min_tsep Parameter in nolds.lyap_r"
   ]
  },
  {
   "cell_type": "code",
   "execution_count": 8,
   "metadata": {},
   "outputs": [
    {
     "name": "stdout",
     "output_type": "stream",
     "text": [
      "Mean Period of Mackey Glass:  44\n",
      "Lag of Mackey Glass:  7\n",
      "Mean Period of Lorenz Attractor-x:  19\n",
      "Lag of Lorenz Attractor-x:  6\n",
      "Mean Period of Lorenz Attractor-y:  17\n",
      "Lag of Lorenz Attractor-y:  5\n",
      "Mean Period of Lorenz Attractor-z:  22\n",
      "Lag of Lorenz Attractor-z:  4\n",
      "Mean Period of Henon Map-x:  4\n",
      "Lag of Henon Map-x:  1\n",
      "Mean Period of Henon Map-y:  4\n",
      "Lag of Henon Map-y:  1\n"
     ]
    }
   ],
   "source": [
    "min_tsep_mackey = round(1/determine_mean_frequency(data_mackey))\n",
    "lag_mackey = find_lag(data_mackey)\n",
    "min_tsep_lorenz_x = round(1/determine_mean_frequency(data_lorenz[:,0]))\n",
    "lag_lorenz_x = find_lag(data_lorenz[:,0])\n",
    "min_tsep_lorenz_y = round(1/determine_mean_frequency(data_lorenz[:,1]))\n",
    "lag_lorenz_y = find_lag(data_lorenz[:,1])\n",
    "min_tsep_lorenz_z = round(1/determine_mean_frequency(data_lorenz[:,2]))\n",
    "lag_lorenz_z = find_lag(data_lorenz[:,2])\n",
    "\n",
    "min_tsep_henon_x = round(1/determine_mean_frequency(data_henon[:,0]))\n",
    "lag_henon_x = find_lag(data_henon[:,0])\n",
    "min_tsep_henon_y = round(1/determine_mean_frequency(data_henon[:,1]))\n",
    "lag_henon_y = find_lag(data_henon[:,1])\n",
    "print(\"Mean Period of Mackey Glass: \", min_tsep_mackey)\n",
    "print(\"Lag of Mackey Glass: \", lag_mackey)\n",
    "print(\"Mean Period of Lorenz Attractor-x: \", min_tsep_lorenz_x)\n",
    "print(\"Lag of Lorenz Attractor-x: \", lag_lorenz_x)\n",
    "print(\"Mean Period of Lorenz Attractor-y: \", min_tsep_lorenz_y)\n",
    "print(\"Lag of Lorenz Attractor-y: \", lag_lorenz_y)\n",
    "print(\"Mean Period of Lorenz Attractor-z: \", min_tsep_lorenz_z)\n",
    "print(\"Lag of Lorenz Attractor-z: \", lag_lorenz_z)\n",
    "print(\"Mean Period of Henon Map-x: \", min_tsep_henon_x)\n",
    "print(\"Lag of Henon Map-x: \", lag_henon_x)\n",
    "print(\"Mean Period of Henon Map-y: \", min_tsep_henon_y)\n",
    "print(\"Lag of Henon Map-y: \", lag_henon_y)"
   ]
  },
  {
   "cell_type": "markdown",
   "metadata": {},
   "source": [
    "Mackey Glass Analysis: Change lag to 8 becasue for 7 the results are unstable"
   ]
  },
  {
   "cell_type": "code",
   "execution_count": 9,
   "metadata": {},
   "outputs": [
    {
     "name": "stdout",
     "output_type": "stream",
     "text": [
      "Lyapunov Time of Mackey Glass:  139.95014987113433\n"
     ]
    }
   ],
   "source": [
    "lyap_time_mackey = np.mean([1/nolds.lyap_r(data_mackey, emb_dim=12, min_tsep=min_tsep_mackey, lag=lag_mackey) for _ in range(100)])\n",
    "print(\"Lyapunov Time of Mackey Glass: \", lyap_time_mackey)"
   ]
  },
  {
   "cell_type": "markdown",
   "metadata": {},
   "source": [
    "Analyze Lorenz"
   ]
  },
  {
   "cell_type": "code",
   "execution_count": 10,
   "metadata": {},
   "outputs": [
    {
     "name": "stdout",
     "output_type": "stream",
     "text": [
      "Lyapunov Time of Lorenz Attractor:  24.85748432365534\n"
     ]
    }
   ],
   "source": [
    "lyap_time_lorenz_x = np.mean([1/nolds.lyap_r(data_lorenz[:,0], emb_dim=5, min_tsep=min_tsep_lorenz_x, lag=lag_lorenz_x) for _ in range(100)])\n",
    "lyap_time_lorenz_y = np.mean([1/nolds.lyap_r(data_lorenz[:,1], emb_dim=5, min_tsep=min_tsep_lorenz_y, lag=lag_lorenz_y) for _ in range(100)])\n",
    "lyap_time_lorenz_z = np.mean([1/nolds.lyap_r(data_lorenz[:,2], emb_dim=5, min_tsep=min_tsep_lorenz_z, lag=lag_lorenz_z) for _ in range(100)])\n",
    "print(\"Lyapunov Time of Lorenz Attractor: \", np.mean([lyap_time_lorenz_x, lyap_time_lorenz_y, lyap_time_lorenz_z]))"
   ]
  },
  {
   "cell_type": "markdown",
   "metadata": {},
   "source": [
    "Analyze Henon"
   ]
  },
  {
   "cell_type": "code",
   "execution_count": 11,
   "metadata": {},
   "outputs": [
    {
     "name": "stdout",
     "output_type": "stream",
     "text": [
      "Lyapunov Time of Henon Map:  3.3745284854054685\n"
     ]
    }
   ],
   "source": [
    "lyap_time_henon_x = np.mean([1/nolds.lyap_r(data_henon[:,0], emb_dim=2, min_tsep=min_tsep_henon_x, lag=lag_henon_x) for _ in range(100)])\n",
    "lyap_time_henon_y = np.mean([1/nolds.lyap_r(data_henon[:,1], emb_dim=2, min_tsep=min_tsep_henon_y, lag=lag_henon_y) for _ in range(100)])\n",
    "print(\"Lyapunov Time of Henon Map: \", np.mean([lyap_time_henon_x, lyap_time_henon_y]))"
   ]
  }
 ],
 "metadata": {
  "kernelspec": {
   "display_name": ".venv",
   "language": "python",
   "name": "python3"
  },
  "language_info": {
   "codemirror_mode": {
    "name": "ipython",
    "version": 3
   },
   "file_extension": ".py",
   "mimetype": "text/x-python",
   "name": "python",
   "nbconvert_exporter": "python",
   "pygments_lexer": "ipython3",
   "version": "3.12.3"
  }
 },
 "nbformat": 4,
 "nbformat_minor": 2
}
