{
 "cells": [
  {
   "cell_type": "code",
   "execution_count": 39,
   "metadata": {},
   "outputs": [],
   "source": [
    "import random"
   ]
  },
  {
   "cell_type": "code",
   "execution_count": 40,
   "metadata": {},
   "outputs": [],
   "source": [
    "encoding_strings_x = ['EXX', 'EXY', 'EXZ']\n",
    "encoding_strings_y = ['EYX', 'EYY', 'EYZ']\n",
    "encoding_strings_z = ['EZX', 'EZY', 'EZZ']\n",
    "parameter_blocks = ['X', 'Y', 'Z', 'CX', 'CY', 'CZ']"
   ]
  },
  {
   "cell_type": "code",
   "execution_count": null,
   "metadata": {},
   "outputs": [],
   "source": [
    "def random_builder(seed, data_label):\n",
    "    if data_label == 'mackey_1000':\n",
    "        dim = 1\n",
    "    elif data_label == 'henon_1000':\n",
    "        dim = 2\n",
    "    elif data_label == 'lorenz_1000':\n",
    "        dim = 3\n",
    "    else:\n",
    "        return []  # Return empty list for unsupported data labels\n",
    "\n",
    "    random.seed(seed)\n",
    "    \n",
    "    # Choose the number of encoding blocks per dimension\n",
    "    num_enc_blocks = random.randint(1, 3)\n",
    "    num_param_blocks = random.randint(1, 12)\n",
    "    \n",
    "    # Determine the total number of blocks\n",
    "    num_blocks = num_enc_blocks * dim + num_param_blocks\n",
    "    \n",
    "    # Create list of strings\n",
    "    strings = []\n",
    "    for _ in range(num_enc_blocks):\n",
    "        if dim >= 1:\n",
    "            strings.append(random.choice(encoding_strings_x))\n",
    "        if dim >= 2:\n",
    "            strings.append(random.choice(encoding_strings_y))\n",
    "        if dim >= 3:\n",
    "            strings.append(random.choice(encoding_strings_z))\n",
    "    \n",
    "    for _ in range(num_param_blocks):\n",
    "        strings.append(random.choice(parameter_blocks))\n",
    "\n",
    "    # Shuffle and validate conditions\n",
    "    max_attempts = 10000\n",
    "    for _ in range(max_attempts):\n",
    "        random.shuffle(strings)\n",
    "\n",
    "        # Condition 1: The first letter of the first string should not be 'C'\n",
    "        if strings[0][0] == 'C':\n",
    "            continue\n",
    "\n",
    "        # Condition 2: First and last string should not end with the same character or 'Z'\n",
    "        if strings[0][-1] == strings[-1][-1] or strings[0][-1] == 'Z' or strings[-1][-1] == 'Z':\n",
    "            continue\n",
    "\n",
    "        # Condition 3: No two consecutive strings should have the same last character\n",
    "        if any(strings[i][-1] == strings[i + 1][-1] for i in range(len(strings) - 1)):\n",
    "            continue\n",
    "\n",
    "        return strings  # Return only if both conditions are satisfied\n",
    "\n",
    "    return []  # Return an empty list if no valid arrangement is found\n",
    "\n",
    "def list_of_strings_builder(num_lists, data_label):\n",
    "    random.seed(0)\n",
    "    sets = []\n",
    "    \n",
    "    while len(sets) < num_lists:\n",
    "        seed = random.randint(0, 1000000)\n",
    "        strings = random_builder(seed, data_label)\n",
    "        \n",
    "        if strings and strings not in sets:  # Ensure uniqueness\n",
    "            sets.append(strings)\n",
    "    return ['ruexp_' + '_'.join(s) for s in sets]\n"
   ]
  },
  {
   "cell_type": "code",
   "execution_count": 87,
   "metadata": {},
   "outputs": [],
   "source": [
    "list_mackey = list_of_strings_builder(100, 'mackey_1000')\n",
    "with open('./Ru_vqc_ansatz/list_mackey.txt', 'w') as file:\n",
    "    file.write(','.join(f'\"{item}\"' for item in list_mackey))"
   ]
  },
  {
   "cell_type": "code",
   "execution_count": 88,
   "metadata": {},
   "outputs": [],
   "source": [
    "list_henon = list_of_strings_builder(100, 'henon_1000')\n",
    "with open('./Ru_vqc_ansatz/list_henon.txt', 'w') as file:\n",
    "    file.write(','.join(f'\"{item}\"' for item in list_henon))"
   ]
  },
  {
   "cell_type": "code",
   "execution_count": 89,
   "metadata": {},
   "outputs": [],
   "source": [
    "list_lorenz = list_of_strings_builder(100, 'lorenz_1000')\n",
    "with open('./Ru_vqc_ansatz/list_lorenz.txt', 'w') as file:\n",
    "    file.write(','.join(f'\"{item}\"' for item in list_lorenz))"
   ]
  }
 ],
 "metadata": {
  "kernelspec": {
   "display_name": ".venv",
   "language": "python",
   "name": "python3"
  },
  "language_info": {
   "codemirror_mode": {
    "name": "ipython",
    "version": 3
   },
   "file_extension": ".py",
   "mimetype": "text/x-python",
   "name": "python",
   "nbconvert_exporter": "python",
   "pygments_lexer": "ipython3",
   "version": "3.12.3"
  }
 },
 "nbformat": 4,
 "nbformat_minor": 2
}
